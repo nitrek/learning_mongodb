{
 "cells": [
  {
   "cell_type": "code",
   "execution_count": 19,
   "metadata": {},
   "outputs": [
    {
     "name": "stdout",
     "output_type": "stream",
     "text": [
      "[]\n"
     ]
    }
   ],
   "source": [
    "import pymongo\n",
    "from pymongo import MongoClient\n",
    "import pprint\n",
    "from IPython.display import clear_output\n",
    "import connect as c\n",
    "# Replace XXXX with your connection URI from the Atlas UI\n",
    "client = c.getMongoClient()\n",
    "\n",
    "filter = {\n",
    "    'languages': ['Korean', 'English']\n",
    "}\n",
    "\n",
    "clear_output()\n",
    "projections = {\n",
    "    '_id':0 ,\n",
    "    'title' :1,\n",
    "    'languages':1\n",
    "}\n",
    "pprint.pprint(list(client.mflix.movies_scratch.find(filter,projections)))"
   ]
  },
  {
   "cell_type": "code",
   "execution_count": null,
   "metadata": {},
   "outputs": [],
   "source": []
  }
 ],
 "metadata": {
  "kernelspec": {
   "display_name": "Python 3",
   "language": "python",
   "name": "python3"
  },
  "language_info": {
   "codemirror_mode": {
    "name": "ipython",
    "version": 3
   },
   "file_extension": ".py",
   "mimetype": "text/x-python",
   "name": "python",
   "nbconvert_exporter": "python",
   "pygments_lexer": "ipython3",
   "version": "3.8.5"
  }
 },
 "nbformat": 4,
 "nbformat_minor": 2
}
