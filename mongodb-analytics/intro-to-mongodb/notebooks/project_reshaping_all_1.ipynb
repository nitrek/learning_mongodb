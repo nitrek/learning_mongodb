{
 "cells": [
  {
   "cell_type": "code",
   "execution_count": 7,
   "metadata": {},
   "outputs": [
    {
     "name": "stdout",
     "output_type": "stream",
     "text": [
      "[]\n"
     ]
    }
   ],
   "source": [
    "import pymongo\n",
    "from pymongo import MongoClient\n",
    "import pprint\n",
    "from IPython.display import clear_output\n",
    "import connect as c\n",
    "# Replace XXXX with your connection URI from the Atlas UI\n",
    "client = c.getMongoClient()\n",
    "\n",
    "pipeline = [\n",
    "    {\n",
    "        '$limit': 100\n",
    "    },\n",
    "    {\n",
    "        '$project': {\n",
    "            'title': 1,\n",
    "            'year': 1,\n",
    "            'directors': {'$split': [\"$director\", \", \"]},\n",
    "            'actors': {'$split': [\"$cast\", \", \"]},\n",
    "            'writers': {'$split': [\"$writer\", \", \"]},\n",
    "            'genres': {'$split': [\"$genre\", \", \"]},\n",
    "            'languages': {'$split': [\"$language\", \", \"]},\n",
    "            'countries': {'$split': [\"$country\", \", \"]},\n",
    "            'plot': 1,\n",
    "            'fullPlot': \"$fullplot\",\n",
    "            'rated': \"$rating\",\n",
    "            'released': 1,\n",
    "            'runtime': 1,\n",
    "            'poster': 1,\n",
    "            'imdb': {\n",
    "                'id': \"$imdbID\",\n",
    "                'rating': \"$imdbRating\",\n",
    "                'votes': \"$imdbVotes\"\n",
    "                },\n",
    "            'metacritic': 1,\n",
    "            'awards': 1,\n",
    "            'type': 1,\n",
    "            'lastUpdated': \"$lastupdated\"\n",
    "        }\n",
    "    },\n",
    "    {\n",
    "        '$out': \"movies_scratch\"\n",
    "    }\n",
    "]\n",
    "\n",
    "clear_output()\n",
    "pprint.pprint(list(client.mflix.movies_initial.aggregate(pipeline)))"
   ]
  },
  {
   "cell_type": "code",
   "execution_count": null,
   "metadata": {},
   "outputs": [],
   "source": [
    "_id\n",
    "title\n",
    "year\n",
    "rating\n",
    "runtime\n",
    "genre\n",
    "released\n",
    "director\n",
    "writer\n",
    "cast\n",
    "metacritic\n",
    "imdbRating\n",
    "imdbVotes\n",
    "poster\n",
    "plot\n",
    "fullplot\n",
    "language\n",
    "country\n",
    "awards\n",
    "lastupdated\n",
    "type\n"
   ]
  }
 ],
 "metadata": {
  "kernelspec": {
   "display_name": "Python 3",
   "language": "python",
   "name": "python3"
  },
  "language_info": {
   "codemirror_mode": {
    "name": "ipython",
    "version": 3
   },
   "file_extension": ".py",
   "mimetype": "text/x-python",
   "name": "python",
   "nbconvert_exporter": "python",
   "pygments_lexer": "ipython3",
   "version": "3.8.5"
  }
 },
 "nbformat": 4,
 "nbformat_minor": 2
}
