{
 "cells": [
  {
   "cell_type": "code",
   "execution_count": 17,
   "metadata": {},
   "outputs": [],
   "source": [
    "def get_mongo_client():\n",
    "    from pymongo import MongoClient\n",
    "    from dotenv import dotenv_values\n",
    "    config = dotenv_values(\".env\")\n",
    "    # Replace XXXX with your connection URI from the Atlas UI\n",
    "    client = MongoClient(config['connection_url'])\n",
    "\n",
    "    return client"
   ]
  }
 ],
 "metadata": {
  "kernelspec": {
   "display_name": "Python 3",
   "language": "python",
   "name": "python3"
  },
  "language_info": {
   "codemirror_mode": {
    "name": "ipython",
    "version": 3
   },
   "file_extension": ".py",
   "mimetype": "text/x-python",
   "name": "python",
   "nbconvert_exporter": "python",
   "pygments_lexer": "ipython3",
   "version": "3.8.5"
  }
 },
 "nbformat": 4,
 "nbformat_minor": 2
}
